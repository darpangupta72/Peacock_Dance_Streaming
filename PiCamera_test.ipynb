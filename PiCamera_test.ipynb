{
 "cells": [
  {
   "cell_type": "markdown",
   "metadata": {},
   "source": [
    "# Classify Single image"
   ]
  },
  {
   "cell_type": "code",
   "execution_count": 5,
   "metadata": {},
   "outputs": [],
   "source": [
    "import tensorflow as tf\n",
    "import sys"
   ]
  },
  {
   "cell_type": "code",
   "execution_count": 6,
   "metadata": {},
   "outputs": [],
   "source": [
    "def get_labels():\n",
    "    \"\"\"Get the labels our retraining created.\"\"\"\n",
    "    with open('retrained_labels.txt', 'r') as fin:\n",
    "        labels = [line.rstrip('\\n') for line in fin]\n",
    "        return labels\n",
    "\n",
    "def predict_on_image(image, labels):\n",
    "\n",
    "    # Unpersists graph from file\n",
    "    with tf.gfile.FastGFile(\"retrained_graph.pb\", 'rb') as f:\n",
    "        graph_def = tf.GraphDef()\n",
    "        graph_def.ParseFromString(f.read())\n",
    "        _ = tf.import_graph_def(graph_def, name='')\n",
    "\n",
    "    with tf.Session() as sess:\n",
    "        softmax_tensor = sess.graph.get_tensor_by_name('final_result:0')\n",
    "\n",
    "        # Read in the image_data\n",
    "        image_data = tf.gfile.FastGFile(image, 'rb').read()\n",
    "\n",
    "        try:\n",
    "            predictions = sess.run(softmax_tensor, \\\n",
    "                 {'DecodeJpeg/contents:0': image_data})\n",
    "            prediction = predictions[0]\n",
    "        except:\n",
    "            print(\"Error making prediction.\")\n",
    "            sys.exit()\n",
    "\n",
    "        # Return the label of the top classification.\n",
    "        prediction = prediction.tolist()\n",
    "        max_value = max(prediction)\n",
    "        max_index = prediction.index(max_value)\n",
    "        predicted_label = labels[max_index]\n",
    "        \n",
    "        return predicted_label"
   ]
  },
  {
   "cell_type": "code",
   "execution_count": 7,
   "metadata": {},
   "outputs": [],
   "source": [
    "labels = get_labels()"
   ]
  },
  {
   "cell_type": "code",
   "execution_count": 8,
   "metadata": {},
   "outputs": [
    {
     "data": {
      "text/plain": [
       "'dancing'"
      ]
     },
     "execution_count": 8,
     "metadata": {},
     "output_type": "execute_result"
    }
   ],
   "source": [
    "predict_on_image('test1.jpg' , labels)"
   ]
  },
  {
   "cell_type": "code",
   "execution_count": null,
   "metadata": {},
   "outputs": [],
   "source": []
  },
  {
   "cell_type": "markdown",
   "metadata": {},
   "source": [
    "# Real Time Detection"
   ]
  },
  {
   "cell_type": "code",
   "execution_count": 16,
   "metadata": {},
   "outputs": [],
   "source": [
    "def run_classification(labels):\n",
    "    \"\"\"Stream images off the camera and process them.\"\"\"\n",
    "\n",
    "    camera = PiCamera()\n",
    "    camera.resolution = (320, 240)\n",
    "    camera.framerate = 2\n",
    "    rawCapture = PiRGBArray(camera, size=(320, 240))\n",
    "\n",
    "    # Warmup...\n",
    "    time.sleep(2)\n",
    "    \n",
    "    # Unpersists graph from file\n",
    "    with tf.gfile.FastGFile(\"retrained_graph.pb\", 'rb') as f:\n",
    "        graph_def = tf.GraphDef()\n",
    "        graph_def.ParseFromString(f.read())\n",
    "        _ = tf.import_graph_def(graph_def, name='')\n",
    "\n",
    "    with tf.Session() as sess:\n",
    "        softmax_tensor = sess.graph.get_tensor_by_name('final_result:0')\n",
    "        for i, image in enumerate(\n",
    "                camera.capture_continuous(\n",
    "                    rawCapture, format='bgr', use_video_port=True\n",
    "                )\n",
    "            ):\n",
    "            # Get the numpy version of the image.\n",
    "            decoded_image = image.array\n",
    "\n",
    "            predictions = sess.run(softmax_tensor, {'DecodeJpeg:0': decoded_image})\n",
    "            prediction = predictions[0]\n",
    "\n",
    "            # Get the highest confidence category.\n",
    "            prediction = prediction.tolist()\n",
    "            max_value = max(prediction)\n",
    "            max_index = prediction.index(max_value)\n",
    "            predicted_label = labels[max_index]\n",
    "\n",
    "            print(\"%s (%.2f%%)\" % (predicted_label, max_value * 100))\n",
    "\n",
    "            # Reset the buffer so we're ready for the next one.\n",
    "            rawCapture.truncate(0)"
   ]
  },
  {
   "cell_type": "code",
   "execution_count": null,
   "metadata": {},
   "outputs": [],
   "source": []
  },
  {
   "cell_type": "code",
   "execution_count": null,
   "metadata": {},
   "outputs": [],
   "source": []
  },
  {
   "cell_type": "code",
   "execution_count": null,
   "metadata": {},
   "outputs": [],
   "source": []
  },
  {
   "cell_type": "code",
   "execution_count": null,
   "metadata": {},
   "outputs": [],
   "source": []
  },
  {
   "cell_type": "code",
   "execution_count": null,
   "metadata": {},
   "outputs": [],
   "source": []
  }
 ],
 "metadata": {
  "kernelspec": {
   "display_name": "Python 3",
   "language": "python",
   "name": "python3"
  },
  "language_info": {
   "codemirror_mode": {
    "name": "ipython",
    "version": 3
   },
   "file_extension": ".py",
   "mimetype": "text/x-python",
   "name": "python",
   "nbconvert_exporter": "python",
   "pygments_lexer": "ipython3",
   "version": "3.6.4"
  }
 },
 "nbformat": 4,
 "nbformat_minor": 2
}
